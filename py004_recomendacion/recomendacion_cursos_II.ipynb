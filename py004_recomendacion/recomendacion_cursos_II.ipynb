{
 "cells": [
  {
   "cell_type": "code",
   "execution_count": 1,
   "metadata": {},
   "outputs": [],
   "source": [
    "import os\n",
    "import random\n",
    "from datetime import datetime\n",
    "import pyodbc\n",
    "\n",
    "import matplotlib\n",
    "import matplotlib.pyplot as plt\n",
    "import numpy as np\n",
    "import pandas as pd\n",
    "import seaborn as sns\n",
    "import xgboost as xgb\n",
    "from scipy import sparse\n",
    "from sklearn.metrics import mean_squared_error\n",
    "from sklearn.metrics.pairwise import cosine_similarity\n",
    "from surprise.model_selection import GridSearchCV\n",
    "from surprise import SVD, BaselineOnly, Dataset, KNNBaseline, Reader, SVDpp\n",
    "\n",
    "import warnings\n",
    "warnings.filterwarnings('ignore')"
   ]
  },
  {
   "cell_type": "code",
   "execution_count": 2,
   "metadata": {},
   "outputs": [],
   "source": [
    "# Conexión a base de datos\n",
    "conn = pyodbc.connect(DRIVER = '{ODBC Driver 17 for SQL Server}',\n",
    "                      SERVER = 'med000008646',\n",
    "                      DATABASE = 'BD_BI',\n",
    "                      UID = 'ussifods',\n",
    "                      PWD = 'sifods')"
   ]
  },
  {
   "cell_type": "code",
   "execution_count": 3,
   "metadata": {},
   "outputs": [],
   "source": [
    "#Extraccion del dataset inical \n",
    "query1 = \"\"\"select *  from [dbo].[TMP_ENCUESTAS]\"\"\"\n",
    "df_ini = pd.read_sql_query(query1,conn)\n",
    "#Cerrar la conexion\n",
    "conn.close()"
   ]
  },
  {
   "cell_type": "markdown",
   "metadata": {},
   "source": [
    "# Mostrar datos de las encuestas de satisfacción"
   ]
  },
  {
   "cell_type": "code",
   "execution_count": 4,
   "metadata": {},
   "outputs": [
    {
     "data": {
      "text/html": [
       "<div>\n",
       "<style scoped>\n",
       "    .dataframe tbody tr th:only-of-type {\n",
       "        vertical-align: middle;\n",
       "    }\n",
       "\n",
       "    .dataframe tbody tr th {\n",
       "        vertical-align: top;\n",
       "    }\n",
       "\n",
       "    .dataframe thead th {\n",
       "        text-align: right;\n",
       "    }\n",
       "</style>\n",
       "<table border=\"1\" class=\"dataframe\">\n",
       "  <thead>\n",
       "    <tr style=\"text-align: right;\">\n",
       "      <th></th>\n",
       "      <th>CURID</th>\n",
       "      <th>DES_CURSO</th>\n",
       "      <th>NOMBRE_ACTIVIDAD</th>\n",
       "      <th>TIPO_ACTIVIDAD</th>\n",
       "      <th>FEEDBACKID</th>\n",
       "      <th>USUARIO</th>\n",
       "      <th>NOMBRES</th>\n",
       "      <th>APELLIDOS</th>\n",
       "      <th>IDNUMBER</th>\n",
       "      <th>NUM_RESPUESTA</th>\n",
       "      <th>FECHA_REALIZADA</th>\n",
       "      <th>NOMBRE_PREGUNTA</th>\n",
       "      <th>ORDEN_PREGUNTA</th>\n",
       "      <th>TIPO_PREGUNTA</th>\n",
       "      <th>OPCIONES</th>\n",
       "      <th>OPCION_ELEGIDA</th>\n",
       "      <th>RESPUESTA</th>\n",
       "      <th>FECHAREPORTE</th>\n",
       "    </tr>\n",
       "  </thead>\n",
       "  <tbody>\n",
       "    <tr>\n",
       "      <th>0</th>\n",
       "      <td>59</td>\n",
       "      <td>Clase invertida</td>\n",
       "      <td>Encuesta de satisfacción</td>\n",
       "      <td>feedback</td>\n",
       "      <td>131</td>\n",
       "      <td>16701635</td>\n",
       "      <td>MARIA LUCINDA</td>\n",
       "      <td>HIDROGO MEJIA</td>\n",
       "      <td>16701635</td>\n",
       "      <td>2942</td>\n",
       "      <td>2022-07-15 10:35:21</td>\n",
       "      <td>10.\\tLa duración del curso para lograr el prop...</td>\n",
       "      <td>29</td>\n",
       "      <td>multichoice</td>\n",
       "      <td>1\\n|2\\n|3\\n|4</td>\n",
       "      <td>3</td>\n",
       "      <td>3\\n</td>\n",
       "      <td>2022-10-28 14:29:56</td>\n",
       "    </tr>\n",
       "    <tr>\n",
       "      <th>1</th>\n",
       "      <td>59</td>\n",
       "      <td>Clase invertida</td>\n",
       "      <td>Encuesta de satisfacción</td>\n",
       "      <td>feedback</td>\n",
       "      <td>131</td>\n",
       "      <td>16701635</td>\n",
       "      <td>MARIA LUCINDA</td>\n",
       "      <td>HIDROGO MEJIA</td>\n",
       "      <td>16701635</td>\n",
       "      <td>2942</td>\n",
       "      <td>2022-07-15 10:35:21</td>\n",
       "      <td>11.\\tLos recursos pedagógicos empleados (video...</td>\n",
       "      <td>30</td>\n",
       "      <td>multichoice</td>\n",
       "      <td>1\\n|2\\n|3\\n|4</td>\n",
       "      <td>3</td>\n",
       "      <td>3\\n</td>\n",
       "      <td>2022-10-28 14:29:56</td>\n",
       "    </tr>\n",
       "    <tr>\n",
       "      <th>2</th>\n",
       "      <td>59</td>\n",
       "      <td>Clase invertida</td>\n",
       "      <td>Encuesta de satisfacción</td>\n",
       "      <td>feedback</td>\n",
       "      <td>131</td>\n",
       "      <td>16701635</td>\n",
       "      <td>MARIA LUCINDA</td>\n",
       "      <td>HIDROGO MEJIA</td>\n",
       "      <td>16701635</td>\n",
       "      <td>2942</td>\n",
       "      <td>2022-07-15 10:35:21</td>\n",
       "      <td>12.\\tLas actividades prácticas y ejemplos pres...</td>\n",
       "      <td>31</td>\n",
       "      <td>multichoice</td>\n",
       "      <td>1\\n|2\\n|3\\n|4</td>\n",
       "      <td>3</td>\n",
       "      <td>3\\n</td>\n",
       "      <td>2022-10-28 14:29:56</td>\n",
       "    </tr>\n",
       "    <tr>\n",
       "      <th>3</th>\n",
       "      <td>59</td>\n",
       "      <td>Clase invertida</td>\n",
       "      <td>Encuesta de satisfacción</td>\n",
       "      <td>feedback</td>\n",
       "      <td>131</td>\n",
       "      <td>16701635</td>\n",
       "      <td>MARIA LUCINDA</td>\n",
       "      <td>HIDROGO MEJIA</td>\n",
       "      <td>16701635</td>\n",
       "      <td>2942</td>\n",
       "      <td>2022-07-15 10:35:21</td>\n",
       "      <td>13.\\tLa evaluación del curso a partir de los c...</td>\n",
       "      <td>32</td>\n",
       "      <td>multichoice</td>\n",
       "      <td>1\\n|2\\n|3\\n|4</td>\n",
       "      <td>3</td>\n",
       "      <td>3\\n</td>\n",
       "      <td>2022-10-28 14:29:56</td>\n",
       "    </tr>\n",
       "    <tr>\n",
       "      <th>4</th>\n",
       "      <td>59</td>\n",
       "      <td>Clase invertida</td>\n",
       "      <td>Encuesta de satisfacción</td>\n",
       "      <td>feedback</td>\n",
       "      <td>131</td>\n",
       "      <td>16701635</td>\n",
       "      <td>MARIA LUCINDA</td>\n",
       "      <td>HIDROGO MEJIA</td>\n",
       "      <td>16701635</td>\n",
       "      <td>2942</td>\n",
       "      <td>2022-07-15 10:35:21</td>\n",
       "      <td>14.\\tLos correos recibidos para culminar el cu...</td>\n",
       "      <td>34</td>\n",
       "      <td>multichoice</td>\n",
       "      <td>1\\n|2\\n|3\\n|4</td>\n",
       "      <td>3</td>\n",
       "      <td>3\\n</td>\n",
       "      <td>2022-10-28 14:29:56</td>\n",
       "    </tr>\n",
       "  </tbody>\n",
       "</table>\n",
       "</div>"
      ],
      "text/plain": [
       "   CURID        DES_CURSO          NOMBRE_ACTIVIDAD TIPO_ACTIVIDAD  \\\n",
       "0     59  Clase invertida  Encuesta de satisfacción       feedback   \n",
       "1     59  Clase invertida  Encuesta de satisfacción       feedback   \n",
       "2     59  Clase invertida  Encuesta de satisfacción       feedback   \n",
       "3     59  Clase invertida  Encuesta de satisfacción       feedback   \n",
       "4     59  Clase invertida  Encuesta de satisfacción       feedback   \n",
       "\n",
       "   FEEDBACKID   USUARIO        NOMBRES      APELLIDOS  IDNUMBER  \\\n",
       "0         131  16701635  MARIA LUCINDA  HIDROGO MEJIA  16701635   \n",
       "1         131  16701635  MARIA LUCINDA  HIDROGO MEJIA  16701635   \n",
       "2         131  16701635  MARIA LUCINDA  HIDROGO MEJIA  16701635   \n",
       "3         131  16701635  MARIA LUCINDA  HIDROGO MEJIA  16701635   \n",
       "4         131  16701635  MARIA LUCINDA  HIDROGO MEJIA  16701635   \n",
       "\n",
       "   NUM_RESPUESTA     FECHA_REALIZADA  \\\n",
       "0           2942 2022-07-15 10:35:21   \n",
       "1           2942 2022-07-15 10:35:21   \n",
       "2           2942 2022-07-15 10:35:21   \n",
       "3           2942 2022-07-15 10:35:21   \n",
       "4           2942 2022-07-15 10:35:21   \n",
       "\n",
       "                                     NOMBRE_PREGUNTA  ORDEN_PREGUNTA  \\\n",
       "0  10.\\tLa duración del curso para lograr el prop...              29   \n",
       "1  11.\\tLos recursos pedagógicos empleados (video...              30   \n",
       "2  12.\\tLas actividades prácticas y ejemplos pres...              31   \n",
       "3  13.\\tLa evaluación del curso a partir de los c...              32   \n",
       "4  14.\\tLos correos recibidos para culminar el cu...              34   \n",
       "\n",
       "  TIPO_PREGUNTA       OPCIONES OPCION_ELEGIDA RESPUESTA        FECHAREPORTE  \n",
       "0   multichoice  1\\n|2\\n|3\\n|4              3       3\\n 2022-10-28 14:29:56  \n",
       "1   multichoice  1\\n|2\\n|3\\n|4              3       3\\n 2022-10-28 14:29:56  \n",
       "2   multichoice  1\\n|2\\n|3\\n|4              3       3\\n 2022-10-28 14:29:56  \n",
       "3   multichoice  1\\n|2\\n|3\\n|4              3       3\\n 2022-10-28 14:29:56  \n",
       "4   multichoice  1\\n|2\\n|3\\n|4              3       3\\n 2022-10-28 14:29:56  "
      ]
     },
     "execution_count": 4,
     "metadata": {},
     "output_type": "execute_result"
    }
   ],
   "source": [
    "df_ini.head()"
   ]
  },
  {
   "cell_type": "code",
   "execution_count": 5,
   "metadata": {},
   "outputs": [],
   "source": [
    "#Numero de docentes por Cursos \n",
    "def docente_cursos(df):\n",
    "    curso_doc = pd.DataFrame(df.groupby('DES_CURSO')['IDNUMBER'].nunique())\n",
    "    curso_doc.reset_index(inplace=True)\n",
    "    curso_doc.sort_values(by ='IDNUMBER', ascending=False,inplace=True)\n",
    "    return curso_doc"
   ]
  },
  {
   "cell_type": "code",
   "execution_count": 6,
   "metadata": {},
   "outputs": [
    {
     "data": {
      "text/html": [
       "<div>\n",
       "<style scoped>\n",
       "    .dataframe tbody tr th:only-of-type {\n",
       "        vertical-align: middle;\n",
       "    }\n",
       "\n",
       "    .dataframe tbody tr th {\n",
       "        vertical-align: top;\n",
       "    }\n",
       "\n",
       "    .dataframe thead th {\n",
       "        text-align: right;\n",
       "    }\n",
       "</style>\n",
       "<table border=\"1\" class=\"dataframe\">\n",
       "  <thead>\n",
       "    <tr style=\"text-align: right;\">\n",
       "      <th></th>\n",
       "      <th>DES_CURSO</th>\n",
       "      <th>IDNUMBER</th>\n",
       "    </tr>\n",
       "  </thead>\n",
       "  <tbody>\n",
       "    <tr>\n",
       "      <th>14</th>\n",
       "      <td>Programa de metodologías STEAM - Secundaria</td>\n",
       "      <td>208</td>\n",
       "    </tr>\n",
       "    <tr>\n",
       "      <th>1</th>\n",
       "      <td>Clase invertida</td>\n",
       "      <td>180</td>\n",
       "    </tr>\n",
       "    <tr>\n",
       "      <th>0</th>\n",
       "      <td>Alfabetización Digital</td>\n",
       "      <td>125</td>\n",
       "    </tr>\n",
       "    <tr>\n",
       "      <th>4</th>\n",
       "      <td>Introducción a la Competencia Digital</td>\n",
       "      <td>114</td>\n",
       "    </tr>\n",
       "    <tr>\n",
       "      <th>15</th>\n",
       "      <td>Prácticas saludables para el uso de las tecnol...</td>\n",
       "      <td>109</td>\n",
       "    </tr>\n",
       "  </tbody>\n",
       "</table>\n",
       "</div>"
      ],
      "text/plain": [
       "                                            DES_CURSO  IDNUMBER\n",
       "14        Programa de metodologías STEAM - Secundaria       208\n",
       "1                                     Clase invertida       180\n",
       "0                              Alfabetización Digital       125\n",
       "4               Introducción a la Competencia Digital       114\n",
       "15  Prácticas saludables para el uso de las tecnol...       109"
      ]
     },
     "execution_count": 6,
     "metadata": {},
     "output_type": "execute_result"
    }
   ],
   "source": [
    "docente_cursos(df_ini).head()"
   ]
  },
  {
   "cell_type": "code",
   "execution_count": 7,
   "metadata": {},
   "outputs": [
    {
     "name": "stdout",
     "output_type": "stream",
     "text": [
      "[3 4 2 1]\n"
     ]
    }
   ],
   "source": [
    "# Comprimir opción elegida\n",
    "df_ini.groupby('OPCION_ELEGIDA')['OPCION_ELEGIDA'].count()\n",
    "## Reemplazamos los valores null por 3\n",
    "df_ini['OPCION_ELEGIDA']=df_ini['OPCION_ELEGIDA'].fillna(3)\n",
    "df_ini['OPCION_ELEGIDA']=df_ini['OPCION_ELEGIDA'].astype('int64')\n",
    "print(df_ini['OPCION_ELEGIDA'].unique())"
   ]
  },
  {
   "cell_type": "code",
   "execution_count": 8,
   "metadata": {},
   "outputs": [
    {
     "data": {
      "text/html": [
       "<div>\n",
       "<style scoped>\n",
       "    .dataframe tbody tr th:only-of-type {\n",
       "        vertical-align: middle;\n",
       "    }\n",
       "\n",
       "    .dataframe tbody tr th {\n",
       "        vertical-align: top;\n",
       "    }\n",
       "\n",
       "    .dataframe thead th {\n",
       "        text-align: right;\n",
       "    }\n",
       "</style>\n",
       "<table border=\"1\" class=\"dataframe\">\n",
       "  <thead>\n",
       "    <tr style=\"text-align: right;\">\n",
       "      <th></th>\n",
       "      <th>CURID</th>\n",
       "      <th>IDNUMBER</th>\n",
       "      <th>PUNTUACION</th>\n",
       "    </tr>\n",
       "  </thead>\n",
       "  <tbody>\n",
       "    <tr>\n",
       "      <th>0</th>\n",
       "      <td>55</td>\n",
       "      <td>513128</td>\n",
       "      <td>3</td>\n",
       "    </tr>\n",
       "    <tr>\n",
       "      <th>1</th>\n",
       "      <td>55</td>\n",
       "      <td>818787</td>\n",
       "      <td>3</td>\n",
       "    </tr>\n",
       "    <tr>\n",
       "      <th>2</th>\n",
       "      <td>55</td>\n",
       "      <td>1112370</td>\n",
       "      <td>3</td>\n",
       "    </tr>\n",
       "    <tr>\n",
       "      <th>3</th>\n",
       "      <td>55</td>\n",
       "      <td>1158716</td>\n",
       "      <td>4</td>\n",
       "    </tr>\n",
       "    <tr>\n",
       "      <th>4</th>\n",
       "      <td>55</td>\n",
       "      <td>1335498</td>\n",
       "      <td>3</td>\n",
       "    </tr>\n",
       "    <tr>\n",
       "      <th>5</th>\n",
       "      <td>55</td>\n",
       "      <td>1683986</td>\n",
       "      <td>3</td>\n",
       "    </tr>\n",
       "    <tr>\n",
       "      <th>6</th>\n",
       "      <td>55</td>\n",
       "      <td>1888335</td>\n",
       "      <td>3</td>\n",
       "    </tr>\n",
       "    <tr>\n",
       "      <th>7</th>\n",
       "      <td>55</td>\n",
       "      <td>2296820</td>\n",
       "      <td>2</td>\n",
       "    </tr>\n",
       "    <tr>\n",
       "      <th>8</th>\n",
       "      <td>55</td>\n",
       "      <td>2744040</td>\n",
       "      <td>3</td>\n",
       "    </tr>\n",
       "    <tr>\n",
       "      <th>9</th>\n",
       "      <td>55</td>\n",
       "      <td>3661335</td>\n",
       "      <td>4</td>\n",
       "    </tr>\n",
       "  </tbody>\n",
       "</table>\n",
       "</div>"
      ],
      "text/plain": [
       "   CURID  IDNUMBER  PUNTUACION\n",
       "0     55    513128           3\n",
       "1     55    818787           3\n",
       "2     55   1112370           3\n",
       "3     55   1158716           4\n",
       "4     55   1335498           3\n",
       "5     55   1683986           3\n",
       "6     55   1888335           3\n",
       "7     55   2296820           2\n",
       "8     55   2744040           3\n",
       "9     55   3661335           4"
      ]
     },
     "execution_count": 8,
     "metadata": {},
     "output_type": "execute_result"
    }
   ],
   "source": [
    "df = pd.DataFrame(df_ini.groupby(['CURID','IDNUMBER'])['OPCION_ELEGIDA'].mean())\n",
    "df.reset_index(inplace=True)\n",
    "df.columns = ['CURID','IDNUMBER','PUNTUACION']\n",
    "df['PUNTUACION']= np.round(df['PUNTUACION'],0).astype(int)\n",
    "df['IDNUMBER']= df['IDNUMBER'].astype(int)\n",
    "df.head(10)"
   ]
  },
  {
   "cell_type": "markdown",
   "metadata": {},
   "source": [
    "**Verificar valores duplicados**"
   ]
  },
  {
   "cell_type": "code",
   "execution_count": 9,
   "metadata": {},
   "outputs": [
    {
     "data": {
      "text/plain": [
       "0"
      ]
     },
     "execution_count": 9,
     "metadata": {},
     "output_type": "execute_result"
    }
   ],
   "source": [
    "df.duplicated([\"CURID\",\"IDNUMBER\",\"PUNTUACION\"]).sum()"
   ]
  },
  {
   "cell_type": "markdown",
   "metadata": {},
   "source": [
    "# Dividir datos para entrenamiento y prueba\n",
    "*   train_data = 80%\n",
    "*   test_data = 20%"
   ]
  },
  {
   "cell_type": "code",
   "execution_count": 10,
   "metadata": {},
   "outputs": [
    {
     "name": "stdout",
     "output_type": "stream",
     "text": [
      "(1004, 3)\n",
      "(252, 3)\n"
     ]
    }
   ],
   "source": [
    "split_value = int(len(df) * 0.80)\n",
    "train_data = df[:split_value]\n",
    "test_data = df[split_value:]\n",
    "print(train_data.shape)\n",
    "print(test_data.shape)"
   ]
  },
  {
   "cell_type": "markdown",
   "metadata": {},
   "source": [
    "# Analisis de datos\n",
    "Contar los ratings"
   ]
  },
  {
   "cell_type": "code",
   "execution_count": 11,
   "metadata": {},
   "outputs": [
    {
     "data": {
      "image/png": "[encoded data removed]",
      "text/plain": [
       "<Figure size 720x432 with 1 Axes>"
      ]
     },
     "metadata": {
      "needs_background": "light"
     },
     "output_type": "display_data"
    }
   ],
   "source": [
    "plt.figure(figsize=(10,6))\n",
    "ax = sns.countplot(x=\"PUNTUACION\", data= train_data)\n",
    "plt.title(\"Conteo de Puntuacion en los datos entrenamiento\", fontsize = 20)\n",
    "plt.xlabel(\"Puntuacion\", fontsize = 20)\n",
    "plt.ylabel(\"Numero de Puntuaciones\", fontsize = 20)\n",
    "plt.show()"
   ]
  },
  {
   "cell_type": "markdown",
   "metadata": {},
   "source": [
    "# Crea la matrix usuario-elemento\n",
    "En la matriz dispersa usuario-elemento, los valores de los elelemtos estan presentes en la columna y los valores de los usuarios están presentes en las filas. La calificación del usuario está presente en la celda"
   ]
  },
  {
   "cell_type": "code",
   "execution_count": 12,
   "metadata": {},
   "outputs": [],
   "source": [
    "def get_user_item_sparse_matrix(df):\n",
    "    sparse_data = sparse.csr_matrix((df.PUNTUACION, (df.IDNUMBER, df.CURID)))\n",
    "    return sparse_data"
   ]
  },
  {
   "cell_type": "markdown",
   "metadata": {},
   "source": [
    "**Crear matriz dispersa a partir del conjunto de datos de entrenamiento**"
   ]
  },
  {
   "cell_type": "code",
   "execution_count": 13,
   "metadata": {},
   "outputs": [],
   "source": [
    "train_sparse_data = get_user_item_sparse_matrix(train_data)"
   ]
  },
  {
   "cell_type": "code",
   "execution_count": 14,
   "metadata": {},
   "outputs": [
    {
     "data": {
      "text/plain": [
       "<99999999x129 sparse matrix of type '<class 'numpy.intc'>'\n",
       "\twith 1004 stored elements in Compressed Sparse Row format>"
      ]
     },
     "execution_count": 14,
     "metadata": {},
     "output_type": "execute_result"
    }
   ],
   "source": [
    "train_sparse_data"
   ]
  },
  {
   "cell_type": "markdown",
   "metadata": {},
   "source": [
    "**Crear la matriz dispersa a partir de datos de prueba**"
   ]
  },
  {
   "cell_type": "code",
   "execution_count": 15,
   "metadata": {},
   "outputs": [],
   "source": [
    "test_sparse_data = get_user_item_sparse_matrix(test_data)"
   ]
  },
  {
   "cell_type": "markdown",
   "metadata": {},
   "source": [
    "# Calificación global del curso"
   ]
  },
  {
   "cell_type": "code",
   "execution_count": 16,
   "metadata": {},
   "outputs": [
    {
     "name": "stdout",
     "output_type": "stream",
     "text": [
      "Promedio global puntuacion: 3.442231075697211\n"
     ]
    }
   ],
   "source": [
    "promedio_global_puntuacion = train_sparse_data.sum()/train_sparse_data.count_nonzero()\n",
    "print(\"Promedio global puntuacion: {}\".format(promedio_global_puntuacion))"
   ]
  },
  {
   "cell_type": "markdown",
   "metadata": {},
   "source": [
    "**Metodo Generico para calcular la calificación promedio de la matriz dispersa**"
   ]
  },
  {
   "cell_type": "code",
   "execution_count": 17,
   "metadata": {},
   "outputs": [],
   "source": [
    "def obtener_promedio_puntuacion(sparse_matrix, is_user):\n",
    "    ax = 1 if is_user else 0\n",
    "    sum_de_puntuacion = sparse_matrix.sum(axis=ax).A1\n",
    "    no_de_puntuacion = (sparse_matrix != 0).sum(axis = ax).A1\n",
    "    rows, cols = sparse_matrix.shape\n",
    "    promedio_puntuacion = {i: sum_de_puntuacion[i]/no_de_puntuacion[i] for i in range(rows if is_user else cols) if no_de_puntuacion[i] != 0}\n",
    "    return promedio_puntuacion"
   ]
  },
  {
   "cell_type": "markdown",
   "metadata": {},
   "source": [
    "**Calcular la calificación promedio del docente**"
   ]
  },
  {
   "cell_type": "code",
   "execution_count": 18,
   "metadata": {},
   "outputs": [],
   "source": [
    "promedio_puntuacion_usuario = obtener_promedio_puntuacion(train_sparse_data, True)"
   ]
  },
  {
   "cell_type": "markdown",
   "metadata": {},
   "source": [
    "**Calular la calificacion promedio del curso**"
   ]
  },
  {
   "cell_type": "code",
   "execution_count": 19,
   "metadata": {},
   "outputs": [],
   "source": [
    "promedio_puntuacion_curso = obtener_promedio_puntuacion(train_sparse_data, False)"
   ]
  },
  {
   "cell_type": "markdown",
   "metadata": {},
   "source": [
    "# Verifique el arranque en frio para los usuarios\n",
    "Aquí el 28% del total de usuarios son nuevos y no tendrán una calificacion adecuada disponible. Entonces, esto puede traer el problema del arranque en frío"
   ]
  },
  {
   "cell_type": "code",
   "execution_count": 20,
   "metadata": {},
   "outputs": [
    {
     "name": "stdout",
     "output_type": "stream",
     "text": [
      "Total no. de usuarios = 730\n",
      "No. de usuarios en la data de entrenamiento= 523\n",
      "No. de usuarios no presentes en la data de entrenamiento = 207(28.0%)\n"
     ]
    }
   ],
   "source": [
    "total_users = len(np.unique(df[\"IDNUMBER\"]))\n",
    "train_users = len(promedio_puntuacion_usuario)\n",
    "UsuarioNoComun = total_users - train_users\n",
    "                  \n",
    "print(\"Total no. de usuarios = {}\".format(total_users))\n",
    "print(\"No. de usuarios en la data de entrenamiento= {}\".format(train_users))\n",
    "print(\"No. de usuarios no presentes en la data de entrenamiento = {}({}%)\".format(UsuarioNoComun, np.round((UsuarioNoComun/total_users)*100), 2))"
   ]
  },
  {
   "cell_type": "markdown",
   "metadata": {},
   "source": [
    "# Verifique el arranque en frio para los cursos\n",
    "Aquí el 38% del total de cursos son nuevas y es posible que su calificacion no esté disponible en el conjunto de datos. Entonces esto puede traer el problema del arranque en frio"
   ]
  },
  {
   "cell_type": "code",
   "execution_count": 21,
   "metadata": {},
   "outputs": [
    {
     "name": "stdout",
     "output_type": "stream",
     "text": [
      "Total no. de Cursos = 16\n",
      "No. de Cursos en los datos de entrenamiento= 10\n",
      "No. de Cursos no prensentes en los datos de entrenamiento = 6(38.0%)\n"
     ]
    }
   ],
   "source": [
    "total_curso = len(np.unique(df[\"CURID\"]))\n",
    "train_curso = len(promedio_puntuacion_curso)\n",
    "CursoNoComun = total_curso - train_curso\n",
    "                  \n",
    "print(\"Total no. de Cursos = {}\".format(total_curso))\n",
    "print(\"No. de Cursos en los datos de entrenamiento= {}\".format(train_curso))\n",
    "print(\"No. de Cursos no prensentes en los datos de entrenamiento = {}({}%)\".format(CursoNoComun, np.round((CursoNoComun/total_curso)*100), 2))"
   ]
  },
  {
   "cell_type": "markdown",
   "metadata": {},
   "source": [
    "# Calculo de la similitud del usuario para encontrar similitudes de los 10 usuarios principales"
   ]
  },
  {
   "cell_type": "code",
   "execution_count": 22,
   "metadata": {},
   "outputs": [],
   "source": [
    "def compute_user_similarity(sparse_matrix, limit=100):\n",
    "    row_index, col_index = sparse_matrix.nonzero()\n",
    "    rows = np.unique(row_index)\n",
    "    similar_arr = np.zeros(61700).reshape(617,100)\n",
    "    \n",
    "    for row in rows[:limit]:\n",
    "        sim = cosine_similarity(sparse_matrix.getrow(row), train_sparse_data).ravel()\n",
    "        similar_indices = sim.argsort()[-limit:]\n",
    "        similar = sim[similar_indices]\n",
    "        similar_arr[row] = similar\n",
    "    \n",
    "    return similar_arr"
   ]
  },
  {
   "cell_type": "code",
   "execution_count": 23,
   "metadata": {},
   "outputs": [
    {
     "ename": "IndexError",
     "evalue": "index 24927 is out of bounds for axis 0 with size 617",
     "output_type": "error",
     "traceback": [
      "\u001b[1;31m---------------------------------------------------------------------------\u001b[0m",
      "\u001b[1;31mIndexError\u001b[0m                                Traceback (most recent call last)",
      "\u001b[1;32m~\\AppData\\Local\\Temp\\ipykernel_10388\\1681633142.py\u001b[0m in \u001b[0;36m<module>\u001b[1;34m\u001b[0m\n\u001b[1;32m----> 1\u001b[1;33m \u001b[0msimilar_user_matrix\u001b[0m \u001b[1;33m=\u001b[0m \u001b[0mcompute_user_similarity\u001b[0m\u001b[1;33m(\u001b[0m\u001b[0mtrain_sparse_data\u001b[0m\u001b[1;33m,\u001b[0m \u001b[1;36m100\u001b[0m\u001b[1;33m)\u001b[0m\u001b[1;33m\u001b[0m\u001b[1;33m\u001b[0m\u001b[0m\n\u001b[0m",
      "\u001b[1;32m~\\AppData\\Local\\Temp\\ipykernel_10388\\1218573457.py\u001b[0m in \u001b[0;36mcompute_user_similarity\u001b[1;34m(sparse_matrix, limit)\u001b[0m\n\u001b[0;32m      8\u001b[0m         \u001b[0msimilar_indices\u001b[0m \u001b[1;33m=\u001b[0m \u001b[0msim\u001b[0m\u001b[1;33m.\u001b[0m\u001b[0margsort\u001b[0m\u001b[1;33m(\u001b[0m\u001b[1;33m)\u001b[0m\u001b[1;33m[\u001b[0m\u001b[1;33m-\u001b[0m\u001b[0mlimit\u001b[0m\u001b[1;33m:\u001b[0m\u001b[1;33m]\u001b[0m\u001b[1;33m\u001b[0m\u001b[1;33m\u001b[0m\u001b[0m\n\u001b[0;32m      9\u001b[0m         \u001b[0msimilar\u001b[0m \u001b[1;33m=\u001b[0m \u001b[0msim\u001b[0m\u001b[1;33m[\u001b[0m\u001b[0msimilar_indices\u001b[0m\u001b[1;33m]\u001b[0m\u001b[1;33m\u001b[0m\u001b[1;33m\u001b[0m\u001b[0m\n\u001b[1;32m---> 10\u001b[1;33m         \u001b[0msimilar_arr\u001b[0m\u001b[1;33m[\u001b[0m\u001b[0mrow\u001b[0m\u001b[1;33m]\u001b[0m \u001b[1;33m=\u001b[0m \u001b[0msimilar\u001b[0m\u001b[1;33m\u001b[0m\u001b[1;33m\u001b[0m\u001b[0m\n\u001b[0m\u001b[0;32m     11\u001b[0m \u001b[1;33m\u001b[0m\u001b[0m\n\u001b[0;32m     12\u001b[0m     \u001b[1;32mreturn\u001b[0m \u001b[0msimilar_arr\u001b[0m\u001b[1;33m\u001b[0m\u001b[1;33m\u001b[0m\u001b[0m\n",
      "\u001b[1;31mIndexError\u001b[0m: index 24927 is out of bounds for axis 0 with size 617"
     ]
    }
   ],
   "source": [
    "similar_user_matrix = compute_user_similarity(train_sparse_data, 100)"
   ]
  },
  {
   "cell_type": "code",
   "execution_count": null,
   "metadata": {},
   "outputs": [],
   "source": [
    "similar_user_matrix[0]"
   ]
  },
  {
   "cell_type": "markdown",
   "metadata": {},
   "source": [
    "# Cargar titulos de los cursos"
   ]
  },
  {
   "cell_type": "markdown",
   "metadata": {},
   "source": [
    "# Calular matriz de similitud de cursos"
   ]
  },
  {
   "cell_type": "markdown",
   "metadata": {},
   "source": [
    "# Crear matriz dispersa de muestra\n",
    "Este método se utilizará para generar sample sparse matrix. se generaran nuevas caracteristicas de similitud a partir de esta matriz dispersa de muestra"
   ]
  },
  {
   "cell_type": "code",
   "execution_count": 24,
   "metadata": {},
   "outputs": [],
   "source": [
    "def get_sample_sparse_matrix(sparse_matrix, no_of_users, no_of_movies):\n",
    "    users, movies, ratings = sparse.find(sparse_matrix)\n",
    "    uniq_users = np.unique(users)\n",
    "    uniq_movies = np.unique(movies)\n",
    "    np.random.seed(15) \n",
    "    user = np.random.choice(uniq_users, no_of_users, replace = False)\n",
    "    movie = np.random.choice(uniq_movies, no_of_movies, replace = True)\n",
    "    mask = np.logical_and(np.isin(users, user), np.isin(movies, movie))\n",
    "    sparse_matrix = sparse.csr_matrix((ratings[mask], (users[mask], movies[mask])), \n",
    "                                                     shape = (max(user)+1, max(movie)+1))\n",
    "    return sparse_matrix"
   ]
  },
  {
   "cell_type": "markdown",
   "metadata": {},
   "source": [
    "**Matriz dispersa de muestra para los datos de entrenamiento**"
   ]
  },
  {
   "cell_type": "code",
   "execution_count": 25,
   "metadata": {},
   "outputs": [],
   "source": [
    "train_sample_sparse_matrix = get_sample_sparse_matrix(train_sparse_data, 100, 10)"
   ]
  },
  {
   "cell_type": "markdown",
   "metadata": {},
   "source": [
    "**Matriz dispersa de muestra para los datos de prueba**"
   ]
  },
  {
   "cell_type": "code",
   "execution_count": 26,
   "metadata": {},
   "outputs": [],
   "source": [
    "test_sparse_matrix_matrix = get_sample_sparse_matrix(test_sparse_data, 50, 5)"
   ]
  },
  {
   "cell_type": "markdown",
   "metadata": {},
   "source": [
    "# Un método genérico para generar caracteristicas similares\n",
    "Esto generará caracteristicas similares a continuación:\n",
    "*   similar_user_rating1\n",
    "*   similar_user_rating2\n",
    "*   similar_user_rating3\n",
    "*   similar_user_rating4\n",
    "*   similar_user_rating5\n",
    "*   similar_cur_rating1\n",
    "*   similar_cur_rating2\n",
    "*   similar_cur_rating3\n",
    "*   similar_cur_rating4\n",
    "*   similar_cur_rating5"
   ]
  },
  {
   "cell_type": "code",
   "execution_count": 28,
   "metadata": {},
   "outputs": [],
   "source": [
    "def create_new_similar_features(sample_sparse_matrix):\n",
    "    global_avg_rating = obtener_promedio_puntuacion(sample_sparse_matrix, False)\n",
    "    global_avg_users = obtener_promedio_puntuacion(sample_sparse_matrix, True)\n",
    "    global_avg_movies = obtener_promedio_puntuacion(sample_sparse_matrix, False)\n",
    "    sample_train_users, sample_train_movies, sample_train_ratings = sparse.find(sample_sparse_matrix)\n",
    "    new_features_csv_file = open(\"new_features.csv\", mode = \"w\")\n",
    "    \n",
    "    for IDNUMBER, CURID, PUNTUACION in zip(sample_train_users, sample_train_movies, sample_train_ratings):\n",
    "        similar_arr = list()\n",
    "        similar_arr.append(IDNUMBER)\n",
    "        similar_arr.append(CURID)\n",
    "        similar_arr.append(sample_sparse_matrix.sum()/sample_sparse_matrix.count_nonzero())\n",
    "        \n",
    "        similar_users = cosine_similarity(sample_sparse_matrix[IDNUMBER], sample_sparse_matrix).ravel()\n",
    "        indices = np.argsort(-similar_users)[1:]\n",
    "        ratings = sample_sparse_matrix[indices, CURID].toarray().ravel()\n",
    "        top_similar_user_ratings = list(ratings[ratings != 0][:5])\n",
    "        top_similar_user_ratings.extend([global_avg_rating[CURID]] * (5 - len(ratings)))\n",
    "        similar_arr.extend(top_similar_user_ratings)\n",
    "        \n",
    "        similar_movies = cosine_similarity(sample_sparse_matrix[:,CURID].T, sample_sparse_matrix.T).ravel()\n",
    "        similar_movies_indices = np.argsort(-similar_movies)[1:]\n",
    "        similar_movies_ratings = sample_sparse_matrix[IDNUMBER, similar_movies_indices].toarray().ravel()\n",
    "        top_similar_movie_ratings = list(similar_movies_ratings[similar_movies_ratings != 0][:5])\n",
    "        top_similar_movie_ratings.extend([global_avg_users[IDNUMBER]] * (5-len(top_similar_movie_ratings)))\n",
    "        similar_arr.extend(top_similar_movie_ratings)\n",
    "        \n",
    "        similar_arr.append(global_avg_users[IDNUMBER])\n",
    "        similar_arr.append(global_avg_movies[CURID])\n",
    "        similar_arr.append(PUNTUACION)\n",
    "        \n",
    "        new_features_csv_file.write(\",\".join(map(str, similar_arr)))\n",
    "        new_features_csv_file.write(\"\\n\")\n",
    "        \n",
    "    new_features_csv_file.close()\n",
    "    new_features_df = pd.read_csv('new_features.csv', names = [\"idnumber\", \"curid\", \"total_average\", \"similar_user_pun1\", \n",
    "                                                               \"similar_user_pun2\", \"similar_user_pun3\", \n",
    "                                                               \"similar_user_pun4\", \"similar_user_pun5\", \n",
    "                                                               \"similar_cur_rating1\", \"similar_cur_rating2\", \n",
    "                                                               \"similar_cur_rating3\", \"similar_cur_rating4\", \n",
    "                                                               \"similar_cur_rating5\", \"user_average\", \n",
    "                                                               \"cur_average\", \"puntuacion\"])\n",
    "    return new_features_df"
   ]
  },
  {
   "cell_type": "markdown",
   "metadata": {},
   "source": [
    "# Genere caracteristicas similares para los datos de entrenamiento"
   ]
  },
  {
   "cell_type": "code",
   "execution_count": 29,
   "metadata": {},
   "outputs": [],
   "source": [
    "train_new_similar_features = create_new_similar_features(train_sample_sparse_matrix)"
   ]
  },
  {
   "cell_type": "code",
   "execution_count": 30,
   "metadata": {},
   "outputs": [
    {
     "data": {
      "text/html": [
       "<div>\n",
       "<style scoped>\n",
       "    .dataframe tbody tr th:only-of-type {\n",
       "        vertical-align: middle;\n",
       "    }\n",
       "\n",
       "    .dataframe tbody tr th {\n",
       "        vertical-align: top;\n",
       "    }\n",
       "\n",
       "    .dataframe thead th {\n",
       "        text-align: right;\n",
       "    }\n",
       "</style>\n",
       "<table border=\"1\" class=\"dataframe\">\n",
       "  <thead>\n",
       "    <tr style=\"text-align: right;\">\n",
       "      <th></th>\n",
       "      <th>idnumber</th>\n",
       "      <th>curid</th>\n",
       "      <th>total_average</th>\n",
       "      <th>similar_user_pun1</th>\n",
       "      <th>similar_user_pun2</th>\n",
       "      <th>similar_user_pun3</th>\n",
       "      <th>similar_user_pun4</th>\n",
       "      <th>similar_user_pun5</th>\n",
       "      <th>similar_cur_rating1</th>\n",
       "      <th>similar_cur_rating2</th>\n",
       "      <th>similar_cur_rating3</th>\n",
       "      <th>similar_cur_rating4</th>\n",
       "      <th>similar_cur_rating5</th>\n",
       "      <th>user_average</th>\n",
       "      <th>cur_average</th>\n",
       "      <th>puntuacion</th>\n",
       "    </tr>\n",
       "  </thead>\n",
       "  <tbody>\n",
       "    <tr>\n",
       "      <th>0</th>\n",
       "      <td>1335498</td>\n",
       "      <td>55</td>\n",
       "      <td>3.409091</td>\n",
       "      <td>4</td>\n",
       "      <td>3.0</td>\n",
       "      <td>4.0</td>\n",
       "      <td>3.0</td>\n",
       "      <td>3.0</td>\n",
       "      <td>4.0</td>\n",
       "      <td>3.0</td>\n",
       "      <td>4.000000</td>\n",
       "      <td>3.500000</td>\n",
       "      <td>3.500000</td>\n",
       "      <td>3.500000</td>\n",
       "      <td>3.333333</td>\n",
       "      <td>3.0</td>\n",
       "    </tr>\n",
       "    <tr>\n",
       "      <th>1</th>\n",
       "      <td>2744040</td>\n",
       "      <td>55</td>\n",
       "      <td>3.409091</td>\n",
       "      <td>3</td>\n",
       "      <td>3.0</td>\n",
       "      <td>4.0</td>\n",
       "      <td>3.0</td>\n",
       "      <td>4.0</td>\n",
       "      <td>3.0</td>\n",
       "      <td>3.0</td>\n",
       "      <td>3.000000</td>\n",
       "      <td>3.000000</td>\n",
       "      <td>3.000000</td>\n",
       "      <td>3.000000</td>\n",
       "      <td>3.333333</td>\n",
       "      <td>3.0</td>\n",
       "    </tr>\n",
       "    <tr>\n",
       "      <th>2</th>\n",
       "      <td>8655926</td>\n",
       "      <td>55</td>\n",
       "      <td>3.409091</td>\n",
       "      <td>3</td>\n",
       "      <td>4.0</td>\n",
       "      <td>4.0</td>\n",
       "      <td>3.0</td>\n",
       "      <td>4.0</td>\n",
       "      <td>3.0</td>\n",
       "      <td>3.0</td>\n",
       "      <td>3.000000</td>\n",
       "      <td>3.000000</td>\n",
       "      <td>3.000000</td>\n",
       "      <td>3.000000</td>\n",
       "      <td>3.333333</td>\n",
       "      <td>3.0</td>\n",
       "    </tr>\n",
       "    <tr>\n",
       "      <th>3</th>\n",
       "      <td>19238990</td>\n",
       "      <td>55</td>\n",
       "      <td>3.409091</td>\n",
       "      <td>4</td>\n",
       "      <td>3.0</td>\n",
       "      <td>3.0</td>\n",
       "      <td>3.0</td>\n",
       "      <td>4.0</td>\n",
       "      <td>4.0</td>\n",
       "      <td>4.0</td>\n",
       "      <td>4.000000</td>\n",
       "      <td>4.000000</td>\n",
       "      <td>4.000000</td>\n",
       "      <td>4.000000</td>\n",
       "      <td>3.333333</td>\n",
       "      <td>4.0</td>\n",
       "    </tr>\n",
       "    <tr>\n",
       "      <th>4</th>\n",
       "      <td>20430547</td>\n",
       "      <td>55</td>\n",
       "      <td>3.409091</td>\n",
       "      <td>3</td>\n",
       "      <td>3.0</td>\n",
       "      <td>3.0</td>\n",
       "      <td>3.0</td>\n",
       "      <td>3.0</td>\n",
       "      <td>4.0</td>\n",
       "      <td>3.0</td>\n",
       "      <td>3.666667</td>\n",
       "      <td>3.666667</td>\n",
       "      <td>3.666667</td>\n",
       "      <td>3.666667</td>\n",
       "      <td>3.333333</td>\n",
       "      <td>4.0</td>\n",
       "    </tr>\n",
       "  </tbody>\n",
       "</table>\n",
       "</div>"
      ],
      "text/plain": [
       "   idnumber  curid  total_average  similar_user_pun1  similar_user_pun2  \\\n",
       "0   1335498     55       3.409091                  4                3.0   \n",
       "1   2744040     55       3.409091                  3                3.0   \n",
       "2   8655926     55       3.409091                  3                4.0   \n",
       "3  19238990     55       3.409091                  4                3.0   \n",
       "4  20430547     55       3.409091                  3                3.0   \n",
       "\n",
       "   similar_user_pun3  similar_user_pun4  similar_user_pun5  \\\n",
       "0                4.0                3.0                3.0   \n",
       "1                4.0                3.0                4.0   \n",
       "2                4.0                3.0                4.0   \n",
       "3                3.0                3.0                4.0   \n",
       "4                3.0                3.0                3.0   \n",
       "\n",
       "   similar_cur_rating1  similar_cur_rating2  similar_cur_rating3  \\\n",
       "0                  4.0                  3.0             4.000000   \n",
       "1                  3.0                  3.0             3.000000   \n",
       "2                  3.0                  3.0             3.000000   \n",
       "3                  4.0                  4.0             4.000000   \n",
       "4                  4.0                  3.0             3.666667   \n",
       "\n",
       "   similar_cur_rating4  similar_cur_rating5  user_average  cur_average  \\\n",
       "0             3.500000             3.500000      3.500000     3.333333   \n",
       "1             3.000000             3.000000      3.000000     3.333333   \n",
       "2             3.000000             3.000000      3.000000     3.333333   \n",
       "3             4.000000             4.000000      4.000000     3.333333   \n",
       "4             3.666667             3.666667      3.666667     3.333333   \n",
       "\n",
       "   puntuacion  \n",
       "0         3.0  \n",
       "1         3.0  \n",
       "2         3.0  \n",
       "3         4.0  \n",
       "4         4.0  "
      ]
     },
     "execution_count": 30,
     "metadata": {},
     "output_type": "execute_result"
    }
   ],
   "source": [
    "train_new_similar_features = train_new_similar_features.fillna(0)\n",
    "train_new_similar_features.head()"
   ]
  },
  {
   "cell_type": "markdown",
   "metadata": {},
   "source": [
    "# Genere características similares para los datos de prueba"
   ]
  },
  {
   "cell_type": "code",
   "execution_count": 31,
   "metadata": {},
   "outputs": [],
   "source": [
    "test_new_similar_features = create_new_similar_features(test_sparse_matrix_matrix)"
   ]
  },
  {
   "cell_type": "code",
   "execution_count": 32,
   "metadata": {},
   "outputs": [
    {
     "data": {
      "text/html": [
       "<div>\n",
       "<style scoped>\n",
       "    .dataframe tbody tr th:only-of-type {\n",
       "        vertical-align: middle;\n",
       "    }\n",
       "\n",
       "    .dataframe tbody tr th {\n",
       "        vertical-align: top;\n",
       "    }\n",
       "\n",
       "    .dataframe thead th {\n",
       "        text-align: right;\n",
       "    }\n",
       "</style>\n",
       "<table border=\"1\" class=\"dataframe\">\n",
       "  <thead>\n",
       "    <tr style=\"text-align: right;\">\n",
       "      <th></th>\n",
       "      <th>idnumber</th>\n",
       "      <th>curid</th>\n",
       "      <th>total_average</th>\n",
       "      <th>similar_user_pun1</th>\n",
       "      <th>similar_user_pun2</th>\n",
       "      <th>similar_user_pun3</th>\n",
       "      <th>similar_user_pun4</th>\n",
       "      <th>similar_user_pun5</th>\n",
       "      <th>similar_cur_rating1</th>\n",
       "      <th>similar_cur_rating2</th>\n",
       "      <th>similar_cur_rating3</th>\n",
       "      <th>similar_cur_rating4</th>\n",
       "      <th>similar_cur_rating5</th>\n",
       "      <th>user_average</th>\n",
       "      <th>cur_average</th>\n",
       "      <th>puntuacion</th>\n",
       "    </tr>\n",
       "  </thead>\n",
       "  <tbody>\n",
       "    <tr>\n",
       "      <th>0</th>\n",
       "      <td>46447280</td>\n",
       "      <td>128</td>\n",
       "      <td>3.178571</td>\n",
       "      <td>3</td>\n",
       "      <td>3</td>\n",
       "      <td>3</td>\n",
       "      <td>3.0</td>\n",
       "      <td>3.0</td>\n",
       "      <td>3.0</td>\n",
       "      <td>3.0</td>\n",
       "      <td>3.0</td>\n",
       "      <td>3.0</td>\n",
       "      <td>3.25</td>\n",
       "      <td>3.0</td>\n",
       "      <td>0.0</td>\n",
       "      <td>0.0</td>\n",
       "    </tr>\n",
       "    <tr>\n",
       "      <th>1</th>\n",
       "      <td>47637992</td>\n",
       "      <td>128</td>\n",
       "      <td>3.178571</td>\n",
       "      <td>3</td>\n",
       "      <td>3</td>\n",
       "      <td>3</td>\n",
       "      <td>3.0</td>\n",
       "      <td>3.0</td>\n",
       "      <td>3.0</td>\n",
       "      <td>3.0</td>\n",
       "      <td>3.0</td>\n",
       "      <td>3.0</td>\n",
       "      <td>3.25</td>\n",
       "      <td>3.0</td>\n",
       "      <td>0.0</td>\n",
       "      <td>0.0</td>\n",
       "    </tr>\n",
       "    <tr>\n",
       "      <th>2</th>\n",
       "      <td>72008454</td>\n",
       "      <td>128</td>\n",
       "      <td>3.178571</td>\n",
       "      <td>3</td>\n",
       "      <td>3</td>\n",
       "      <td>3</td>\n",
       "      <td>3.0</td>\n",
       "      <td>3.0</td>\n",
       "      <td>3.0</td>\n",
       "      <td>3.0</td>\n",
       "      <td>3.0</td>\n",
       "      <td>3.0</td>\n",
       "      <td>3.25</td>\n",
       "      <td>3.0</td>\n",
       "      <td>0.0</td>\n",
       "      <td>0.0</td>\n",
       "    </tr>\n",
       "    <tr>\n",
       "      <th>3</th>\n",
       "      <td>80209750</td>\n",
       "      <td>128</td>\n",
       "      <td>3.178571</td>\n",
       "      <td>3</td>\n",
       "      <td>3</td>\n",
       "      <td>3</td>\n",
       "      <td>4.0</td>\n",
       "      <td>4.0</td>\n",
       "      <td>4.0</td>\n",
       "      <td>4.0</td>\n",
       "      <td>4.0</td>\n",
       "      <td>4.0</td>\n",
       "      <td>3.25</td>\n",
       "      <td>4.0</td>\n",
       "      <td>0.0</td>\n",
       "      <td>0.0</td>\n",
       "    </tr>\n",
       "    <tr>\n",
       "      <th>4</th>\n",
       "      <td>7258663</td>\n",
       "      <td>583</td>\n",
       "      <td>3.178571</td>\n",
       "      <td>3</td>\n",
       "      <td>3</td>\n",
       "      <td>3</td>\n",
       "      <td>3.0</td>\n",
       "      <td>3.0</td>\n",
       "      <td>3.0</td>\n",
       "      <td>3.0</td>\n",
       "      <td>3.0</td>\n",
       "      <td>3.0</td>\n",
       "      <td>3.00</td>\n",
       "      <td>3.0</td>\n",
       "      <td>0.0</td>\n",
       "      <td>0.0</td>\n",
       "    </tr>\n",
       "  </tbody>\n",
       "</table>\n",
       "</div>"
      ],
      "text/plain": [
       "   idnumber  curid  total_average  similar_user_pun1  similar_user_pun2  \\\n",
       "0  46447280    128       3.178571                  3                  3   \n",
       "1  47637992    128       3.178571                  3                  3   \n",
       "2  72008454    128       3.178571                  3                  3   \n",
       "3  80209750    128       3.178571                  3                  3   \n",
       "4   7258663    583       3.178571                  3                  3   \n",
       "\n",
       "   similar_user_pun3  similar_user_pun4  similar_user_pun5  \\\n",
       "0                  3                3.0                3.0   \n",
       "1                  3                3.0                3.0   \n",
       "2                  3                3.0                3.0   \n",
       "3                  3                4.0                4.0   \n",
       "4                  3                3.0                3.0   \n",
       "\n",
       "   similar_cur_rating1  similar_cur_rating2  similar_cur_rating3  \\\n",
       "0                  3.0                  3.0                  3.0   \n",
       "1                  3.0                  3.0                  3.0   \n",
       "2                  3.0                  3.0                  3.0   \n",
       "3                  4.0                  4.0                  4.0   \n",
       "4                  3.0                  3.0                  3.0   \n",
       "\n",
       "   similar_cur_rating4  similar_cur_rating5  user_average  cur_average  \\\n",
       "0                  3.0                 3.25           3.0          0.0   \n",
       "1                  3.0                 3.25           3.0          0.0   \n",
       "2                  3.0                 3.25           3.0          0.0   \n",
       "3                  4.0                 3.25           4.0          0.0   \n",
       "4                  3.0                 3.00           3.0          0.0   \n",
       "\n",
       "   puntuacion  \n",
       "0         0.0  \n",
       "1         0.0  \n",
       "2         0.0  \n",
       "3         0.0  \n",
       "4         0.0  "
      ]
     },
     "execution_count": 32,
     "metadata": {},
     "output_type": "execute_result"
    }
   ],
   "source": [
    "test_new_similar_features = test_new_similar_features.fillna(0)\n",
    "test_new_similar_features.head()"
   ]
  },
  {
   "cell_type": "markdown",
   "metadata": {},
   "source": [
    "# Construcción del modelo de aprendizaje "
   ]
  },
  {
   "cell_type": "code",
   "execution_count": 33,
   "metadata": {},
   "outputs": [],
   "source": [
    "x_train = train_new_similar_features.drop([\"idnumber\", \"curid\", \"puntuacion\"], axis = 1)\n",
    "\n",
    "x_test = test_new_similar_features.drop([\"idnumber\", \"curid\", \"puntuacion\"], axis = 1)\n",
    "\n",
    "y_train = train_new_similar_features[\"puntuacion\"]\n",
    "\n",
    "y_test = test_new_similar_features[\"puntuacion\"]"
   ]
  },
  {
   "cell_type": "code",
   "execution_count": 34,
   "metadata": {},
   "outputs": [],
   "source": [
    "def error_metrics(y_true, y_pred):\n",
    "    rmse = np.sqrt(mean_squared_error(y_true, y_pred))\n",
    "    return rmse"
   ]
  },
  {
   "cell_type": "code",
   "execution_count": 35,
   "metadata": {},
   "outputs": [
    {
     "name": "stdout",
     "output_type": "stream",
     "text": [
      "[10:59:23] WARNING: C:/Users/Administrator/workspace/xgboost-win64_release_1.6.0/src/learner.cc:627: \n",
      "Parameters: { \"silent\" } might not be used.\n",
      "\n",
      "  This could be a false alarm, with some parameters getting used by language bindings but\n",
      "  then being mistakenly passed down to XGBoost core, or some parameter actually being used\n",
      "  but getting flagged wrongly here. Please open an issue if you find any such cases.\n",
      "\n",
      "\n"
     ]
    },
    {
     "data": {
      "text/plain": [
       "XGBRegressor(base_score=0.5, booster='gbtree', callbacks=None,\n",
       "             colsample_bylevel=1, colsample_bynode=1, colsample_bytree=1,\n",
       "             early_stopping_rounds=None, enable_categorical=False,\n",
       "             eval_metric=None, gamma=0, gpu_id=-1, grow_policy='depthwise',\n",
       "             importance_type=None, interaction_constraints='',\n",
       "             learning_rate=0.300000012, max_bin=256, max_cat_to_onehot=4,\n",
       "             max_delta_step=0, max_depth=6, max_leaves=0, min_child_weight=1,\n",
       "             missing=nan, monotone_constraints='()', n_estimators=100,\n",
       "             n_jobs=10, num_parallel_tree=1, predictor='auto', random_state=0,\n",
       "             reg_alpha=0, reg_lambda=1, ...)"
      ]
     },
     "execution_count": 35,
     "metadata": {},
     "output_type": "execute_result"
    }
   ],
   "source": [
    "clf = xgb.XGBRegressor(n_estimators = 100, silent = False, n_jobs  = 10)\n",
    "clf.fit(x_train, y_train)"
   ]
  },
  {
   "cell_type": "code",
   "execution_count": 36,
   "metadata": {},
   "outputs": [],
   "source": [
    "y_pred_test = clf.predict(x_test)"
   ]
  },
  {
   "cell_type": "code",
   "execution_count": 37,
   "metadata": {},
   "outputs": [
    {
     "name": "stdout",
     "output_type": "stream",
     "text": [
      "RMSE = 0.10843608103760381\n"
     ]
    }
   ],
   "source": [
    "rmse_test = error_metrics(y_test, y_pred_test)\n",
    "print(\"RMSE = {}\".format(rmse_test))"
   ]
  },
  {
   "cell_type": "markdown",
   "metadata": {},
   "source": [
    "# Importancia de las caracteristicas\n",
    "La importancia de las caracterisiticas es una técnica importante que selecciona una puntuación para ingresar caracteristicas en función de su valor para predecir una variable de destino"
   ]
  },
  {
   "cell_type": "code",
   "execution_count": 38,
   "metadata": {},
   "outputs": [],
   "source": [
    "def plot_importance(model, clf):\n",
    "    fig = plt.figure(figsize = (8, 6))\n",
    "    ax = fig.add_axes([0,0,1,1])\n",
    "    model.plot_importance(clf, ax = ax, height = 0.3)\n",
    "    plt.xlabel(\"F Score\", fontsize = 20)\n",
    "    plt.ylabel(\"Features\", fontsize = 20)\n",
    "    plt.title(\"Feature Importance\", fontsize = 20)\n",
    "    plt.tick_params(labelsize = 15)\n",
    "    \n",
    "    plt.show()"
   ]
  },
  {
   "cell_type": "code",
   "execution_count": 39,
   "metadata": {},
   "outputs": [
    {
     "data": {
      "image/png": "[encoded data removed]",
      "text/plain": [
       "<Figure size 576x432 with 1 Axes>"
      ]
     },
     "metadata": {
      "needs_background": "light"
     },
     "output_type": "display_data"
    }
   ],
   "source": [
    "plot_importance(xgb, clf)"
   ]
  },
  {
   "cell_type": "code",
   "execution_count": null,
   "metadata": {},
   "outputs": [],
   "source": []
  }
 ],
 "metadata": {
  "kernelspec": {
   "display_name": "Python 3.7.6 64-bit",
   "language": "python",
   "name": "python3"
  },
  "language_info": {
   "codemirror_mode": {
    "name": "ipython",
    "version": 3
   },
   "file_extension": ".py",
   "mimetype": "text/x-python",
   "name": "python",
   "nbconvert_exporter": "python",
   "pygments_lexer": "ipython3",
   "version": "3.7.6"
  },
  "orig_nbformat": 4,
  "vscode": {
   "interpreter": {
    "hash": "39bb5c55204a885ee68ccb78966257c6a336960a8633272408920ec6e3b23fa8"
   }
  }
 },
 "nbformat": 4,
 "nbformat_minor": 2
}
